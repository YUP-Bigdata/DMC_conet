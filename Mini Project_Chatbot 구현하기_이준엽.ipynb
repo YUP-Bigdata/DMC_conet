{
 "cells": [
  {
   "cell_type": "markdown",
   "metadata": {
    "id": "6m7fxMU5L5ll"
   },
   "source": [
    "## **Mini Project: Chatbot 구현하기**\n",
    "- 트랜스포머를 사용하여 일상 대화 챗봇 구현"
   ]
  },
  {
   "cell_type": "markdown",
   "metadata": {
    "id": "8aCmkYZKW8mC"
   },
   "source": [
    "## **1. 데이터 로드**"
   ]
  },
  {
   "cell_type": "code",
   "execution_count": 2,
   "metadata": {
    "scrolled": true
   },
   "outputs": [
    {
     "name": "stdout",
     "output_type": "stream",
     "text": [
      "Collecting tensorflow_datasets\n",
      "  Downloading tensorflow_datasets-4.7.0-py3-none-any.whl (4.7 MB)\n",
      "Requirement already satisfied: absl-py in c:\\users\\joony\\anaconda3\\lib\\site-packages (from tensorflow_datasets) (1.0.0)\n",
      "Requirement already satisfied: toml in c:\\users\\joony\\anaconda3\\lib\\site-packages (from tensorflow_datasets) (0.10.2)\n",
      "Requirement already satisfied: numpy in c:\\users\\joony\\anaconda3\\lib\\site-packages (from tensorflow_datasets) (1.20.3)\n",
      "Requirement already satisfied: tqdm in c:\\users\\joony\\anaconda3\\lib\\site-packages (from tensorflow_datasets) (4.62.3)\n",
      "Requirement already satisfied: termcolor in c:\\users\\joony\\anaconda3\\lib\\site-packages (from tensorflow_datasets) (1.1.0)\n",
      "Requirement already satisfied: protobuf>=3.12.2 in c:\\users\\joony\\anaconda3\\lib\\site-packages (from tensorflow_datasets) (3.19.4)\n",
      "Collecting tensorflow-metadata\n",
      "  Downloading tensorflow_metadata-1.11.0-py3-none-any.whl (52 kB)\n",
      "Collecting dill\n",
      "  Downloading dill-0.3.6-py3-none-any.whl (110 kB)\n",
      "Collecting etils[epath]\n",
      "  Downloading etils-0.9.0-py3-none-any.whl (140 kB)\n",
      "Requirement already satisfied: requests>=2.19.0 in c:\\users\\joony\\anaconda3\\lib\\site-packages (from tensorflow_datasets) (2.26.0)\n",
      "Requirement already satisfied: promise in c:\\users\\joony\\anaconda3\\lib\\site-packages (from tensorflow_datasets) (2.3)\n",
      "Requirement already satisfied: six in c:\\users\\joony\\anaconda3\\lib\\site-packages (from tensorflow_datasets) (1.16.0)\n",
      "Requirement already satisfied: idna<4,>=2.5 in c:\\users\\joony\\anaconda3\\lib\\site-packages (from requests>=2.19.0->tensorflow_datasets) (2.10)\n",
      "Requirement already satisfied: urllib3<1.27,>=1.21.1 in c:\\users\\joony\\anaconda3\\lib\\site-packages (from requests>=2.19.0->tensorflow_datasets) (1.26.7)\n",
      "Requirement already satisfied: charset-normalizer~=2.0.0 in c:\\users\\joony\\anaconda3\\lib\\site-packages (from requests>=2.19.0->tensorflow_datasets) (2.0.4)\n",
      "Requirement already satisfied: certifi>=2017.4.17 in c:\\users\\joony\\anaconda3\\lib\\site-packages (from requests>=2.19.0->tensorflow_datasets) (2021.10.8)\n",
      "Requirement already satisfied: typing_extensions in c:\\users\\joony\\anaconda3\\lib\\site-packages (from etils[epath]->tensorflow_datasets) (3.10.0.2)\n",
      "Collecting importlib_resources\n",
      "  Downloading importlib_resources-5.10.0-py3-none-any.whl (34 kB)\n",
      "Requirement already satisfied: zipp in c:\\users\\joony\\anaconda3\\lib\\site-packages (from etils[epath]->tensorflow_datasets) (3.6.0)\n",
      "Collecting googleapis-common-protos<2,>=1.52.0\n",
      "  Downloading googleapis_common_protos-1.56.4-py2.py3-none-any.whl (211 kB)\n",
      "Requirement already satisfied: colorama in c:\\users\\joony\\anaconda3\\lib\\site-packages (from tqdm->tensorflow_datasets) (0.4.4)\n",
      "Installing collected packages: etils, importlib-resources, googleapis-common-protos, tensorflow-metadata, dill, tensorflow-datasets\n",
      "Successfully installed dill-0.3.6 etils-0.9.0 googleapis-common-protos-1.56.4 importlib-resources-5.10.0 tensorflow-datasets-4.7.0 tensorflow-metadata-1.11.0\n"
     ]
    }
   ],
   "source": [
    "!pip install tensorflow_datasets"
   ]
  },
  {
   "cell_type": "code",
   "execution_count": 3,
   "metadata": {
    "executionInfo": {
     "elapsed": 3082,
     "status": "ok",
     "timestamp": 1668130006025,
     "user": {
      "displayName": "박태윤",
      "userId": "14504281515903706788"
     },
     "user_tz": -540
    },
    "id": "eu1my_HEL4Cv"
   },
   "outputs": [],
   "source": [
    "import pandas as pd\n",
    "import urllib.request\n",
    "import tensorflow_datasets as tfds\n",
    "import tensorflow as tf\n",
    "import time\n",
    "import numpy as np\n",
    "import matplotlib.pyplot as plt\n",
    "import re"
   ]
  },
  {
   "cell_type": "code",
   "execution_count": 4,
   "metadata": {
    "colab": {
     "base_uri": "https://localhost:8080/",
     "height": 206
    },
    "executionInfo": {
     "elapsed": 1003,
     "status": "ok",
     "timestamp": 1668130007025,
     "user": {
      "displayName": "박태윤",
      "userId": "14504281515903706788"
     },
     "user_tz": -540
    },
    "id": "TC-huGsSMCwO",
    "outputId": "14e61ebc-0861-49cc-fb1d-e5bbfe339bbd"
   },
   "outputs": [
    {
     "data": {
      "text/html": [
       "<div>\n",
       "<style scoped>\n",
       "    .dataframe tbody tr th:only-of-type {\n",
       "        vertical-align: middle;\n",
       "    }\n",
       "\n",
       "    .dataframe tbody tr th {\n",
       "        vertical-align: top;\n",
       "    }\n",
       "\n",
       "    .dataframe thead th {\n",
       "        text-align: right;\n",
       "    }\n",
       "</style>\n",
       "<table border=\"1\" class=\"dataframe\">\n",
       "  <thead>\n",
       "    <tr style=\"text-align: right;\">\n",
       "      <th></th>\n",
       "      <th>Q</th>\n",
       "      <th>A</th>\n",
       "      <th>label</th>\n",
       "    </tr>\n",
       "  </thead>\n",
       "  <tbody>\n",
       "    <tr>\n",
       "      <th>0</th>\n",
       "      <td>12시 땡!</td>\n",
       "      <td>하루가 또 가네요.</td>\n",
       "      <td>0</td>\n",
       "    </tr>\n",
       "    <tr>\n",
       "      <th>1</th>\n",
       "      <td>1지망 학교 떨어졌어</td>\n",
       "      <td>위로해 드립니다.</td>\n",
       "      <td>0</td>\n",
       "    </tr>\n",
       "    <tr>\n",
       "      <th>2</th>\n",
       "      <td>3박4일 놀러가고 싶다</td>\n",
       "      <td>여행은 언제나 좋죠.</td>\n",
       "      <td>0</td>\n",
       "    </tr>\n",
       "    <tr>\n",
       "      <th>3</th>\n",
       "      <td>3박4일 정도 놀러가고 싶다</td>\n",
       "      <td>여행은 언제나 좋죠.</td>\n",
       "      <td>0</td>\n",
       "    </tr>\n",
       "    <tr>\n",
       "      <th>4</th>\n",
       "      <td>PPL 심하네</td>\n",
       "      <td>눈살이 찌푸려지죠.</td>\n",
       "      <td>0</td>\n",
       "    </tr>\n",
       "  </tbody>\n",
       "</table>\n",
       "</div>"
      ],
      "text/plain": [
       "                 Q            A  label\n",
       "0           12시 땡!   하루가 또 가네요.      0\n",
       "1      1지망 학교 떨어졌어    위로해 드립니다.      0\n",
       "2     3박4일 놀러가고 싶다  여행은 언제나 좋죠.      0\n",
       "3  3박4일 정도 놀러가고 싶다  여행은 언제나 좋죠.      0\n",
       "4          PPL 심하네   눈살이 찌푸려지죠.      0"
      ]
     },
     "execution_count": 4,
     "metadata": {},
     "output_type": "execute_result"
    }
   ],
   "source": [
    "urllib.request.urlretrieve(\"https://raw.githubusercontent.com/songys/Chatbot_data/master/ChatbotData.csv\", filename=\"ChatBotData.csv\")\n",
    "\n",
    "train_data = pd.read_csv('ChatBotData.csv')\n",
    "train_data.head()"
   ]
  },
  {
   "cell_type": "code",
   "execution_count": 5,
   "metadata": {
    "colab": {
     "base_uri": "https://localhost:8080/"
    },
    "executionInfo": {
     "elapsed": 25,
     "status": "ok",
     "timestamp": 1668130007026,
     "user": {
      "displayName": "박태윤",
      "userId": "14504281515903706788"
     },
     "user_tz": -540
    },
    "id": "VZyc2cHBMFBV",
    "outputId": "901b44fd-1eb7-467a-d518-35c57dd9347c"
   },
   "outputs": [
    {
     "name": "stdout",
     "output_type": "stream",
     "text": [
      "챗봇 샘플의 개수 : 11823\n"
     ]
    }
   ],
   "source": [
    "print('챗봇 샘플의 개수 :', len(train_data))"
   ]
  },
  {
   "cell_type": "code",
   "execution_count": 6,
   "metadata": {
    "colab": {
     "base_uri": "https://localhost:8080/"
    },
    "executionInfo": {
     "elapsed": 20,
     "status": "ok",
     "timestamp": 1668130007027,
     "user": {
      "displayName": "박태윤",
      "userId": "14504281515903706788"
     },
     "user_tz": -540
    },
    "id": "SXBAuiQ1MG1t",
    "outputId": "240ef7ef-a95b-4287-afb6-c1f1b94a916b"
   },
   "outputs": [
    {
     "name": "stdout",
     "output_type": "stream",
     "text": [
      "Q        0\n",
      "A        0\n",
      "label    0\n",
      "dtype: int64\n"
     ]
    }
   ],
   "source": [
    "print(train_data.isnull().sum())"
   ]
  },
  {
   "cell_type": "code",
   "execution_count": 7,
   "metadata": {
    "executionInfo": {
     "elapsed": 17,
     "status": "ok",
     "timestamp": 1668130007027,
     "user": {
      "displayName": "박태윤",
      "userId": "14504281515903706788"
     },
     "user_tz": -540
    },
    "id": "GP0r7s6YMIed"
   },
   "outputs": [],
   "source": [
    "questions = []\n",
    "for sentence in train_data['Q']:\n",
    "    # 구두점에 대해서 띄어쓰기\n",
    "    # ex) 12시 땡! -> 12시 땡 !\n",
    "    sentence = re.sub(r\"([?.!,])\", r\" \\1 \", sentence)\n",
    "    sentence = sentence.strip()\n",
    "    questions.append(sentence)"
   ]
  },
  {
   "cell_type": "code",
   "execution_count": 8,
   "metadata": {
    "executionInfo": {
     "elapsed": 17,
     "status": "ok",
     "timestamp": 1668130007028,
     "user": {
      "displayName": "박태윤",
      "userId": "14504281515903706788"
     },
     "user_tz": -540
    },
    "id": "T_0Jxu9sMKVu"
   },
   "outputs": [],
   "source": [
    "answers = []\n",
    "for sentence in train_data['A']:\n",
    "    # 구두점에 대해서 띄어쓰기\n",
    "    # ex) 12시 땡! -> 12시 땡 !\n",
    "    sentence = re.sub(r\"([?.!,])\", r\" \\1 \", sentence)\n",
    "    sentence = sentence.strip()\n",
    "    answers.append(sentence)"
   ]
  },
  {
   "cell_type": "code",
   "execution_count": 9,
   "metadata": {
    "colab": {
     "base_uri": "https://localhost:8080/"
    },
    "executionInfo": {
     "elapsed": 17,
     "status": "ok",
     "timestamp": 1668130007028,
     "user": {
      "displayName": "박태윤",
      "userId": "14504281515903706788"
     },
     "user_tz": -540
    },
    "id": "AP3h1ZrwML9-",
    "outputId": "24d42820-c2dc-481c-f446-a05e3feccc6f"
   },
   "outputs": [
    {
     "data": {
      "text/plain": [
       "11823"
      ]
     },
     "execution_count": 9,
     "metadata": {},
     "output_type": "execute_result"
    }
   ],
   "source": [
    "len(questions)"
   ]
  },
  {
   "cell_type": "code",
   "execution_count": 10,
   "metadata": {
    "colab": {
     "base_uri": "https://localhost:8080/"
    },
    "executionInfo": {
     "elapsed": 15,
     "status": "ok",
     "timestamp": 1668130007029,
     "user": {
      "displayName": "박태윤",
      "userId": "14504281515903706788"
     },
     "user_tz": -540
    },
    "id": "zpPYx7HjMNKk",
    "outputId": "7aa03636-b25b-459f-88c1-6db20a09b7fa"
   },
   "outputs": [
    {
     "name": "stdout",
     "output_type": "stream",
     "text": [
      "['12시 땡 !', '1지망 학교 떨어졌어', '3박4일 놀러가고 싶다', '3박4일 정도 놀러가고 싶다', 'PPL 심하네']\n",
      "['하루가 또 가네요 .', '위로해 드립니다 .', '여행은 언제나 좋죠 .', '여행은 언제나 좋죠 .', '눈살이 찌푸려지죠 .']\n"
     ]
    }
   ],
   "source": [
    "print(questions[:5])\n",
    "print(answers[:5])"
   ]
  },
  {
   "cell_type": "markdown",
   "metadata": {
    "id": "0yrGCpmMXFwf"
   },
   "source": [
    "## **2. 단어 집합 생성**"
   ]
  },
  {
   "cell_type": "code",
   "execution_count": 11,
   "metadata": {
    "executionInfo": {
     "elapsed": 13,
     "status": "ok",
     "timestamp": 1668130007030,
     "user": {
      "displayName": "박태윤",
      "userId": "14504281515903706788"
     },
     "user_tz": -540
    },
    "id": "EMOcpQ0RrdYY"
   },
   "outputs": [],
   "source": [
    "import tensorflow_datasets as tfds"
   ]
  },
  {
   "cell_type": "code",
   "execution_count": 12,
   "metadata": {
    "executionInfo": {
     "elapsed": 24363,
     "status": "ok",
     "timestamp": 1668130031381,
     "user": {
      "displayName": "박태윤",
      "userId": "14504281515903706788"
     },
     "user_tz": -540
    },
    "id": "jI_cRHsEMOdl"
   },
   "outputs": [],
   "source": [
    "# 서브워드텍스트인코더를 사용하여 질문과 답변을 모두 포함한 단어 집합(Vocabulary) 생성\n",
    "tokenizer = tfds.deprecated.text.SubwordTextEncoder.build_from_corpus(\n",
    "    questions + answers, target_vocab_size=2**13)\n",
    "\n",
    "# 시작 토큰과 종료 토큰에 대한 정수 부여.\n",
    "START_TOKEN, END_TOKEN = [tokenizer.vocab_size], [tokenizer.vocab_size + 1]\n",
    "\n",
    "# 시작 토큰과 종료 토큰을 고려하여 단어 집합의 크기를 + 2\n",
    "VOCAB_SIZE = tokenizer.vocab_size + 2"
   ]
  },
  {
   "cell_type": "code",
   "execution_count": 13,
   "metadata": {
    "colab": {
     "base_uri": "https://localhost:8080/"
    },
    "executionInfo": {
     "elapsed": 36,
     "status": "ok",
     "timestamp": 1668130031382,
     "user": {
      "displayName": "박태윤",
      "userId": "14504281515903706788"
     },
     "user_tz": -540
    },
    "id": "5dmNV0XrMQUO",
    "outputId": "b32cdad3-3c36-458a-8f9e-a2db3c2693a8"
   },
   "outputs": [
    {
     "name": "stdout",
     "output_type": "stream",
     "text": [
      "시작 토큰 번호 : [8178]\n",
      "종료 토큰 번호 : [8179]\n",
      "단어 집합의 크기 : 8180\n"
     ]
    }
   ],
   "source": [
    "print('시작 토큰 번호 :',START_TOKEN)\n",
    "print('종료 토큰 번호 :',END_TOKEN)\n",
    "print('단어 집합의 크기 :',VOCAB_SIZE)"
   ]
  },
  {
   "cell_type": "markdown",
   "metadata": {
    "id": "y3PONJVjXulv"
   },
   "source": [
    "## **3. 정수 인코딩과 패딩**"
   ]
  },
  {
   "cell_type": "code",
   "execution_count": 14,
   "metadata": {
    "colab": {
     "base_uri": "https://localhost:8080/"
    },
    "executionInfo": {
     "elapsed": 34,
     "status": "ok",
     "timestamp": 1668130031384,
     "user": {
      "displayName": "박태윤",
      "userId": "14504281515903706788"
     },
     "user_tz": -540
    },
    "id": "qHPv4FkPMVqY",
    "outputId": "a223d0a9-bf21-40e7-efba-56ea2e2cff9c"
   },
   "outputs": [
    {
     "name": "stdout",
     "output_type": "stream",
     "text": [
      "임의의 질문 샘플에 대하여 정수 인코딩: [5766, 611, 3509, 141, 685, 3747, 849]\n"
     ]
    }
   ],
   "source": [
    "# 서브워드텍스트인코더 토크나이저의 .encode()를 사용하여 텍스트 시퀀스를 정수 시퀀스로 변환.\n",
    "print('임의의 질문 샘플에 대하여 정수 인코딩: {}'.format(tokenizer.encode(questions[20])))"
   ]
  },
  {
   "cell_type": "code",
   "execution_count": 15,
   "metadata": {
    "colab": {
     "base_uri": "https://localhost:8080/",
     "height": 35
    },
    "executionInfo": {
     "elapsed": 31,
     "status": "ok",
     "timestamp": 1668130031385,
     "user": {
      "displayName": "박태윤",
      "userId": "14504281515903706788"
     },
     "user_tz": -540
    },
    "id": "TbFr8fHKsg-G",
    "outputId": "46beb05e-cc3e-498b-e30e-bd6cf7930b4d"
   },
   "outputs": [
    {
     "data": {
      "text/plain": [
       "'가스비 비싼데 감기 걸리겠어'"
      ]
     },
     "execution_count": 15,
     "metadata": {},
     "output_type": "execute_result"
    }
   ],
   "source": [
    "questions[20]"
   ]
  },
  {
   "cell_type": "code",
   "execution_count": 16,
   "metadata": {
    "colab": {
     "base_uri": "https://localhost:8080/"
    },
    "executionInfo": {
     "elapsed": 30,
     "status": "ok",
     "timestamp": 1668130031385,
     "user": {
      "displayName": "박태윤",
      "userId": "14504281515903706788"
     },
     "user_tz": -540
    },
    "id": "W5UxROO8MViF",
    "outputId": "0d66436d-a438-4c0c-8ac3-632fc8280d52"
   },
   "outputs": [
    {
     "name": "stdout",
     "output_type": "stream",
     "text": [
      "정수 인코딩 후의 문장 [5766, 611, 3509, 141, 685, 3747, 849]\n",
      "기존 문장: 가스비 비싼데 감기 걸리겠어\n"
     ]
    }
   ],
   "source": [
    "# 서브워드텍스트인코더 토크나이저의 .encode()와 decode() 테스트해보기\n",
    "\n",
    "# 임의의 입력 문장을 sample_string에 저장\n",
    "sample_string = questions[20]\n",
    "\n",
    "# encode() : 텍스트 시퀀스 --> 정수 시퀀스\n",
    "tokenized_string = tokenizer.encode(sample_string)\n",
    "print ('정수 인코딩 후의 문장 {}'.format(tokenized_string))\n",
    "\n",
    "# decode() : 정수 시퀀스 --> 텍스트 시퀀스\n",
    "original_string = tokenizer.decode(tokenized_string)\n",
    "print ('기존 문장: {}'.format(original_string))"
   ]
  },
  {
   "cell_type": "code",
   "execution_count": 17,
   "metadata": {
    "colab": {
     "base_uri": "https://localhost:8080/"
    },
    "executionInfo": {
     "elapsed": 28,
     "status": "ok",
     "timestamp": 1668130031386,
     "user": {
      "displayName": "박태윤",
      "userId": "14504281515903706788"
     },
     "user_tz": -540
    },
    "id": "B-lua8NAMVbV",
    "outputId": "b18afa08-7a5a-4d27-cdb6-8a3aad4a30b5"
   },
   "outputs": [
    {
     "name": "stdout",
     "output_type": "stream",
     "text": [
      "5766 ----> 가스\n",
      "611 ----> 비 \n",
      "3509 ----> 비싼\n",
      "141 ----> 데 \n",
      "685 ----> 감기 \n",
      "3747 ----> 걸리\n",
      "849 ----> 겠어\n"
     ]
    }
   ],
   "source": [
    "# 각 정수는 각 단어와 어떻게 mapping되는지 병렬로 출력\n",
    "# 서브워드텍스트인코더는 의미있는 단위의 서브워드로 토크나이징한다. 띄어쓰기 단위 X 형태소 분석 단위 X\n",
    "for ts in tokenized_string:\n",
    "  print ('{} ----> {}'.format(ts, tokenizer.decode([ts])))"
   ]
  },
  {
   "cell_type": "code",
   "execution_count": 18,
   "metadata": {
    "executionInfo": {
     "elapsed": 26,
     "status": "ok",
     "timestamp": 1668130031387,
     "user": {
      "displayName": "박태윤",
      "userId": "14504281515903706788"
     },
     "user_tz": -540
    },
    "id": "I-UWtkl2MVUO"
   },
   "outputs": [],
   "source": [
    "# 최대 길이를 40으로 정의\n",
    "MAX_LENGTH = 40\n",
    "\n",
    "# 토큰화 / 정수 인코딩 / 시작 토큰과 종료 토큰 추가 / 패딩\n",
    "def tokenize_and_filter(inputs, outputs):\n",
    "  tokenized_inputs, tokenized_outputs = [], []\n",
    "  \n",
    "  for (sentence1, sentence2) in zip(inputs, outputs):\n",
    "    # encode(토큰화 + 정수 인코딩), 시작 토큰과 종료 토큰 추가\n",
    "    sentence1 = START_TOKEN + tokenizer.encode(sentence1) + END_TOKEN\n",
    "    sentence2 = START_TOKEN + tokenizer.encode(sentence2) + END_TOKEN\n",
    "\n",
    "    tokenized_inputs.append(sentence1)\n",
    "    tokenized_outputs.append(sentence2)\n",
    "  \n",
    "  # 패딩\n",
    "  tokenized_inputs = tf.keras.preprocessing.sequence.pad_sequences(\n",
    "      tokenized_inputs, maxlen=MAX_LENGTH, padding='post')\n",
    "  tokenized_outputs = tf.keras.preprocessing.sequence.pad_sequences(\n",
    "      tokenized_outputs, maxlen=MAX_LENGTH, padding='post')\n",
    "  \n",
    "  return tokenized_inputs, tokenized_outputs"
   ]
  },
  {
   "cell_type": "code",
   "execution_count": 19,
   "metadata": {
    "executionInfo": {
     "elapsed": 705,
     "status": "ok",
     "timestamp": 1668130032066,
     "user": {
      "displayName": "박태윤",
      "userId": "14504281515903706788"
     },
     "user_tz": -540
    },
    "id": "N_pzXgNtMVMV"
   },
   "outputs": [],
   "source": [
    "questions, answers = tokenize_and_filter(questions, answers)"
   ]
  },
  {
   "cell_type": "code",
   "execution_count": 20,
   "metadata": {
    "colab": {
     "base_uri": "https://localhost:8080/"
    },
    "executionInfo": {
     "elapsed": 16,
     "status": "ok",
     "timestamp": 1668130032066,
     "user": {
      "displayName": "박태윤",
      "userId": "14504281515903706788"
     },
     "user_tz": -540
    },
    "id": "eW3ikKPtMVBl",
    "outputId": "18a8c085-9867-4d64-a6b1-5d1f59a1fbb8"
   },
   "outputs": [
    {
     "name": "stdout",
     "output_type": "stream",
     "text": [
      "질문 데이터의 크기(shape) : (11823, 40)\n",
      "답변 데이터의 크기(shape) : (11823, 40)\n"
     ]
    }
   ],
   "source": [
    "print('질문 데이터의 크기(shape) :', questions.shape)\n",
    "print('답변 데이터의 크기(shape) :', answers.shape)"
   ]
  },
  {
   "cell_type": "code",
   "execution_count": 21,
   "metadata": {
    "colab": {
     "base_uri": "https://localhost:8080/"
    },
    "executionInfo": {
     "elapsed": 14,
     "status": "ok",
     "timestamp": 1668130032067,
     "user": {
      "displayName": "박태윤",
      "userId": "14504281515903706788"
     },
     "user_tz": -540
    },
    "id": "HKZRCzyNMiUl",
    "outputId": "2634ac87-2934-437d-dc94-f4f93d95d6b6"
   },
   "outputs": [
    {
     "name": "stdout",
     "output_type": "stream",
     "text": [
      "[8178 7915 4207 3060   41 8179    0    0    0    0    0    0    0    0\n",
      "    0    0    0    0    0    0    0    0    0    0    0    0    0    0\n",
      "    0    0    0    0    0    0    0    0    0    0    0    0]\n",
      "[8178 3844   74 7894    1 8179    0    0    0    0    0    0    0    0\n",
      "    0    0    0    0    0    0    0    0    0    0    0    0    0    0\n",
      "    0    0    0    0    0    0    0    0    0    0    0    0]\n"
     ]
    }
   ],
   "source": [
    "# 0번째 샘플을 임의로 출력\n",
    "print(questions[0])\n",
    "print(answers[0])"
   ]
  },
  {
   "cell_type": "code",
   "execution_count": 22,
   "metadata": {
    "colab": {
     "base_uri": "https://localhost:8080/"
    },
    "executionInfo": {
     "elapsed": 11,
     "status": "ok",
     "timestamp": 1668130032068,
     "user": {
      "displayName": "박태윤",
      "userId": "14504281515903706788"
     },
     "user_tz": -540
    },
    "id": "0ywchiRxMjl9",
    "outputId": "8b7c141f-9815-4893-ba55-ab097ffe791e"
   },
   "outputs": [
    {
     "name": "stdout",
     "output_type": "stream",
     "text": [
      "단어 집합의 크기(Vocab size): 8180\n",
      "전체 샘플의 수(Number of samples): 11823\n"
     ]
    }
   ],
   "source": [
    "print('단어 집합의 크기(Vocab size): {}'.format(VOCAB_SIZE))\n",
    "print('전체 샘플의 수(Number of samples): {}'.format(len(questions)))"
   ]
  },
  {
   "cell_type": "markdown",
   "metadata": {
    "id": "4hdzcFqcYnoe"
   },
   "source": [
    "## **4. 인코더와 디코더의 입력, 그리고 레이블 만들기**"
   ]
  },
  {
   "cell_type": "code",
   "execution_count": 23,
   "metadata": {
    "executionInfo": {
     "elapsed": 517,
     "status": "ok",
     "timestamp": 1668130034623,
     "user": {
      "displayName": "박태윤",
      "userId": "14504281515903706788"
     },
     "user_tz": -540
    },
    "id": "dPr57JtvMlzn"
   },
   "outputs": [],
   "source": [
    "# 텐서플로우 dataset을 이용하여 셔플(shuffle)을 수행하되, 배치 크기로 데이터를 묶는다.\n",
    "# 또한 이 과정에서 교사 강요(teacher forcing)을 사용하기 위해서 디코더의 입력과 실제값 시퀀스를 구성한다.\n",
    "BATCH_SIZE = 64\n",
    "BUFFER_SIZE = 20000\n",
    "\n",
    "# 디코더의 실제값 시퀀스에서는 시작 토큰을 제거해야 한다.\n",
    "dataset = tf.data.Dataset.from_tensor_slices((\n",
    "    {\n",
    "        'inputs': questions,\n",
    "        'dec_inputs': answers[:, :-1] # 디코더의 입력. 마지막 패딩 토큰이 제거된다.\n",
    "    },\n",
    "    {\n",
    "        'outputs': answers[:, 1:]  # 맨 처음 토큰이 제거된다. 다시 말해 시작 토큰이 제거된다.\n",
    "    },\n",
    "))\n",
    "\n",
    "dataset = dataset.cache()\n",
    "dataset = dataset.shuffle(BUFFER_SIZE)\n",
    "dataset = dataset.batch(BATCH_SIZE)\n",
    "dataset = dataset.prefetch(tf.data.experimental.AUTOTUNE)"
   ]
  },
  {
   "cell_type": "code",
   "execution_count": 24,
   "metadata": {
    "colab": {
     "base_uri": "https://localhost:8080/"
    },
    "executionInfo": {
     "elapsed": 24,
     "status": "ok",
     "timestamp": 1668130034624,
     "user": {
      "displayName": "박태윤",
      "userId": "14504281515903706788"
     },
     "user_tz": -540
    },
    "id": "vR_HdWwsMni8",
    "outputId": "7f3514a8-b620-4c45-d89b-144604b26714"
   },
   "outputs": [
    {
     "name": "stdout",
     "output_type": "stream",
     "text": [
      "[8178 3844   74 7894    1 8179    0    0    0    0    0    0    0    0\n",
      "    0    0    0    0    0    0    0    0    0    0    0    0    0    0\n",
      "    0    0    0    0    0    0    0    0    0    0    0    0]\n",
      "[[8178 3844   74 7894    1 8179    0    0    0    0    0    0    0    0\n",
      "     0    0    0    0    0    0    0    0    0    0    0    0    0    0\n",
      "     0    0    0    0    0    0    0    0    0    0    0]]\n",
      "[[3844   74 7894    1 8179    0    0    0    0    0    0    0    0    0\n",
      "     0    0    0    0    0    0    0    0    0    0    0    0    0    0\n",
      "     0    0    0    0    0    0    0    0    0    0    0]]\n"
     ]
    }
   ],
   "source": [
    "# 임의의 샘플에 대해서 [:, :-1]과 [:, 1:]이 어떤 의미를 가지는지 테스트해본다.\n",
    "print(answers[0]) # 기존 샘플\n",
    "print(answers[:1][:, :-1]) # 마지막 패딩 토큰 제거하면서 길이가 39가 된다.\n",
    "print(answers[:1][:, 1:]) # 맨 처음 토큰이 제거된다. 다시 말해 시작 토큰이 제거된다. 길이는 역시 39가 된다."
   ]
  },
  {
   "cell_type": "markdown",
   "metadata": {
    "id": "TV7QDWLWYwJg"
   },
   "source": [
    "## **5. 트랜스포머 만들기**"
   ]
  },
  {
   "cell_type": "markdown",
   "metadata": {
    "id": "CKAmC6B7KuzV"
   },
   "source": [
    "### **5.1 Encoder**"
   ]
  },
  {
   "cell_type": "markdown",
   "metadata": {
    "id": "YOzMbJSoMMSH"
   },
   "source": [
    "#### 5.1.1 Positional Encoding"
   ]
  },
  {
   "cell_type": "code",
   "execution_count": 25,
   "metadata": {
    "executionInfo": {
     "elapsed": 22,
     "status": "ok",
     "timestamp": 1668130034625,
     "user": {
      "displayName": "박태윤",
      "userId": "14504281515903706788"
     },
     "user_tz": -540
    },
    "id": "ydzK2dJMDGMU"
   },
   "outputs": [],
   "source": [
    "class PositionalEncoding(tf.keras.layers.Layer):\n",
    "  def __init__(self, position, d_model):\n",
    "    super(PositionalEncoding, self).__init__()\n",
    "    self.pos_encoding = self.positional_encoding(position, d_model)\n",
    "\n",
    "  def get_angles(self, position, i, d_model):\n",
    "    angles = 1 / tf.pow(10000, (2 * (i // 2)) / tf.cast(d_model, tf.float32))\n",
    "    return position * angles\n",
    "\n",
    "  def positional_encoding(self, position, d_model):\n",
    "    angle_rads = self.get_angles(\n",
    "        position=tf.range(position, dtype=tf.float32)[:, tf.newaxis],\n",
    "        i=tf.range(d_model, dtype=tf.float32)[tf.newaxis, :],\n",
    "        d_model=d_model)\n",
    "\n",
    "    # 배열의 짝수 인덱스(2i)에는 사인 함수 적용\n",
    "    sines = tf.math.sin(angle_rads[:, 0::2])\n",
    "\n",
    "    # 배열의 홀수 인덱스(2i+1)에는 코사인 함수 적용\n",
    "    cosines = tf.math.cos(angle_rads[:, 1::2])\n",
    "\n",
    "    angle_rads = np.zeros(angle_rads.shape)\n",
    "    angle_rads[:, 0::2] = sines\n",
    "    angle_rads[:, 1::2] = cosines\n",
    "    pos_encoding = tf.constant(angle_rads)\n",
    "    pos_encoding = pos_encoding[tf.newaxis, ...]\n",
    "\n",
    "    print(pos_encoding.shape)\n",
    "    return tf.cast(pos_encoding, tf.float32)\n",
    "\n",
    "  def call(self, inputs):\n",
    "    return inputs + self.pos_encoding[:, :tf.shape(inputs)[1], :]"
   ]
  },
  {
   "cell_type": "markdown",
   "metadata": {
    "id": "YXc-V0-cMumf"
   },
   "source": [
    "#### 5.1.2. Attention"
   ]
  },
  {
   "cell_type": "markdown",
   "metadata": {
    "id": "Rn6eXNYfW6JV"
   },
   "source": [
    "##### 5.1.2.1 Scaled dot-product Attention"
   ]
  },
  {
   "cell_type": "code",
   "execution_count": 26,
   "metadata": {
    "executionInfo": {
     "elapsed": 21,
     "status": "ok",
     "timestamp": 1668130034625,
     "user": {
      "displayName": "박태윤",
      "userId": "14504281515903706788"
     },
     "user_tz": -540
    },
    "id": "xbASEd4CDPyq"
   },
   "outputs": [],
   "source": [
    "def scaled_dot_product_attention(query, key, value, mask):\n",
    "  # query 크기 : (batch_size, num_heads, query의 문장 길이, d_model/num_heads)\n",
    "  # key 크기 : (batch_size, num_heads, key의 문장 길이, d_model/num_heads)\n",
    "  # value 크기 : (batch_size, num_heads, value의 문장 길이, d_model/num_heads)\n",
    "  # padding_mask : (batch_size, 1, 1, key의 문장 길이)\n",
    "\n",
    "  # Q와 K의 곱. 어텐션 스코어 행렬.\n",
    "  matmul_qk = tf.matmul(query, key, transpose_b=True)\n",
    "\n",
    "  # 스케일링\n",
    "  # dk의 루트값으로 나눠준다.\n",
    "  depth = tf.cast(tf.shape(key)[-1], tf.float32)\n",
    "  logits = matmul_qk / tf.math.sqrt(depth)\n",
    "\n",
    "  # 마스킹. 어텐션 스코어 행렬의 마스킹 할 위치에 매우 작은 음수값을 넣는다.\n",
    "  # 매우 작은 값이므로 소프트맥스 함수를 지나면 행렬의 해당 위치의 값은 0이 된다.\n",
    "  if mask is not None:\n",
    "    logits += (mask * -1e9)\n",
    "\n",
    "  # 소프트맥스 함수는 마지막 차원인 key의 문장 길이 방향으로 수행된다.\n",
    "  # attention weight : (batch_size, num_heads, query의 문장 길이, key의 문장 길이)\n",
    "  attention_weights = tf.nn.softmax(logits, axis=-1)\n",
    "\n",
    "  # output : (batch_size, num_heads, query의 문장 길이, d_model/num_heads)\n",
    "  output = tf.matmul(attention_weights, value)\n",
    "\n",
    "  return output, attention_weights"
   ]
  },
  {
   "cell_type": "code",
   "execution_count": 27,
   "metadata": {
    "executionInfo": {
     "elapsed": 20,
     "status": "ok",
     "timestamp": 1668130034625,
     "user": {
      "displayName": "박태윤",
      "userId": "14504281515903706788"
     },
     "user_tz": -540
    },
    "id": "GaRT_ON9WpLA"
   },
   "outputs": [],
   "source": [
    "# 임의의 Query, Key, Value인 Q, K, V 행렬 생성\n",
    "np.set_printoptions(suppress=True)\n",
    "temp_k = tf.constant([[10,0,0],\n",
    "                      [0,10,0],\n",
    "                      [0,0,10],\n",
    "                      [0,0,10]], dtype=tf.float32)  # (4, 3)\n",
    "\n",
    "temp_v = tf.constant([[   1,0],\n",
    "                      [  10,0],\n",
    "                      [ 100,5],\n",
    "                      [1000,6]], dtype=tf.float32)  # (4, 2)\n",
    "temp_q = tf.constant([[0, 10, 0]], dtype=tf.float32)  # (1, 3)"
   ]
  },
  {
   "cell_type": "code",
   "execution_count": 28,
   "metadata": {
    "colab": {
     "base_uri": "https://localhost:8080/"
    },
    "executionInfo": {
     "elapsed": 2099,
     "status": "ok",
     "timestamp": 1668130036704,
     "user": {
      "displayName": "박태윤",
      "userId": "14504281515903706788"
     },
     "user_tz": -540
    },
    "id": "hRrACMXDWvL2",
    "outputId": "b426b712-ea9c-4514-b426-f460b8882110"
   },
   "outputs": [
    {
     "name": "stdout",
     "output_type": "stream",
     "text": [
      "tf.Tensor([[0. 1. 0. 0.]], shape=(1, 4), dtype=float32)\n",
      "tf.Tensor([[10.  0.]], shape=(1, 2), dtype=float32)\n"
     ]
    }
   ],
   "source": [
    "# 함수 실행\n",
    "temp_out, temp_attn = scaled_dot_product_attention(temp_q, temp_k, temp_v, None)\n",
    "print(temp_attn) # 어텐션 분포(어텐션 가중치의 나열)\n",
    "print(temp_out) # 어텐션 값"
   ]
  },
  {
   "cell_type": "code",
   "execution_count": 29,
   "metadata": {
    "colab": {
     "base_uri": "https://localhost:8080/"
    },
    "executionInfo": {
     "elapsed": 21,
     "status": "ok",
     "timestamp": 1668130036705,
     "user": {
      "displayName": "박태윤",
      "userId": "14504281515903706788"
     },
     "user_tz": -540
    },
    "id": "D6HXWYFsWx3f",
    "outputId": "52e4b3a8-05db-4b6c-eaac-dac74c66fdd1"
   },
   "outputs": [
    {
     "name": "stdout",
     "output_type": "stream",
     "text": [
      "tf.Tensor([[0.  0.  0.5 0.5]], shape=(1, 4), dtype=float32)\n",
      "tf.Tensor([[550.    5.5]], shape=(1, 2), dtype=float32)\n"
     ]
    }
   ],
   "source": [
    "temp_q = tf.constant([[0, 0, 10]], dtype=tf.float32)\n",
    "temp_out, temp_attn = scaled_dot_product_attention(temp_q, temp_k, temp_v, None)\n",
    "print(temp_attn) # 어텐션 분포(어텐션 가중치의 나열)\n",
    "print(temp_out) # 어텐션 값"
   ]
  },
  {
   "cell_type": "code",
   "execution_count": 30,
   "metadata": {
    "colab": {
     "base_uri": "https://localhost:8080/"
    },
    "executionInfo": {
     "elapsed": 17,
     "status": "ok",
     "timestamp": 1668130036705,
     "user": {
      "displayName": "박태윤",
      "userId": "14504281515903706788"
     },
     "user_tz": -540
    },
    "id": "nBH8sYPIW2A3",
    "outputId": "edabf7f1-e301-45b9-91d7-969623ba7c47"
   },
   "outputs": [
    {
     "name": "stdout",
     "output_type": "stream",
     "text": [
      "tf.Tensor(\n",
      "[[0.  0.  0.5 0.5]\n",
      " [0.  1.  0.  0. ]\n",
      " [0.5 0.5 0.  0. ]], shape=(3, 4), dtype=float32)\n",
      "tf.Tensor(\n",
      "[[550.    5.5]\n",
      " [ 10.    0. ]\n",
      " [  5.5   0. ]], shape=(3, 2), dtype=float32)\n"
     ]
    }
   ],
   "source": [
    "temp_q = tf.constant([[0, 0, 10], [0, 10, 0], [10, 10, 0]], dtype=tf.float32)  # (3, 3)\n",
    "temp_out, temp_attn = scaled_dot_product_attention(temp_q, temp_k, temp_v, None)\n",
    "print(temp_attn) # 어텐션 분포(어텐션 가중치의 나열)\n",
    "print(temp_out) # 어텐션 값"
   ]
  },
  {
   "cell_type": "markdown",
   "metadata": {
    "id": "kHunkJptdSkM"
   },
   "source": [
    "##### 5.1.2.2 Multi-head Attention"
   ]
  },
  {
   "cell_type": "code",
   "execution_count": 31,
   "metadata": {
    "executionInfo": {
     "elapsed": 16,
     "status": "ok",
     "timestamp": 1668130036706,
     "user": {
      "displayName": "박태윤",
      "userId": "14504281515903706788"
     },
     "user_tz": -540
    },
    "id": "bUwiMvHwXryA"
   },
   "outputs": [],
   "source": [
    "class MultiHeadAttention(tf.keras.layers.Layer):\n",
    "\n",
    "  def __init__(self, d_model, num_heads, name=\"multi_head_attention\"):\n",
    "    super(MultiHeadAttention, self).__init__(name=name)\n",
    "    self.num_heads = num_heads\n",
    "    self.d_model = d_model\n",
    "\n",
    "    assert d_model % self.num_heads == 0\n",
    "\n",
    "    # d_model을 num_heads로 나눈 값.\n",
    "    # 논문 기준 : 64\n",
    "    self.depth = d_model // self.num_heads\n",
    "\n",
    "    # WQ, WK, WV에 해당하는 밀집층 정의\n",
    "    self.query_dense = tf.keras.layers.Dense(units=d_model)\n",
    "    self.key_dense = tf.keras.layers.Dense(units=d_model)\n",
    "    self.value_dense = tf.keras.layers.Dense(units=d_model)\n",
    "\n",
    "    # WO에 해당하는 밀집층 정의\n",
    "    self.dense = tf.keras.layers.Dense(units=d_model)\n",
    "\n",
    "  # num_heads 개수만큼 q, k, v를 split하는 함수\n",
    "  def split_heads(self, inputs, batch_size):\n",
    "    inputs = tf.reshape(\n",
    "        inputs, shape=(batch_size, -1, self.num_heads, self.depth))\n",
    "    return tf.transpose(inputs, perm=[0, 2, 1, 3])\n",
    "\n",
    "  def call(self, inputs):\n",
    "    query, key, value, mask = inputs['query'], inputs['key'], inputs[\n",
    "        'value'], inputs['mask']\n",
    "    batch_size = tf.shape(query)[0]\n",
    "\n",
    "    # 1. WQ, WK, WV에 해당하는 밀집층 지나기\n",
    "    # q : (batch_size, query의 문장 길이, d_model)\n",
    "    # k : (batch_size, key의 문장 길이, d_model)\n",
    "    # v : (batch_size, value의 문장 길이, d_model)\n",
    "    # 참고) 인코더(k, v)-디코더(q) 어텐션에서는 query 길이와 key, value의 길이는 다를 수 있다.\n",
    "    query = self.query_dense(query)\n",
    "    key = self.key_dense(key)\n",
    "    value = self.value_dense(value)\n",
    "\n",
    "    # 2. 헤드 나누기\n",
    "    # q : (batch_size, num_heads, query의 문장 길이, d_model/num_heads)\n",
    "    # k : (batch_size, num_heads, key의 문장 길이, d_model/num_heads)\n",
    "    # v : (batch_size, num_heads, value의 문장 길이, d_model/num_heads)\n",
    "    query = self.split_heads(query, batch_size)\n",
    "    key = self.split_heads(key, batch_size)\n",
    "    value = self.split_heads(value, batch_size)\n",
    "\n",
    "    # 3. 스케일드 닷 프로덕트 어텐션. 앞서 구현한 함수 사용.\n",
    "    # (batch_size, num_heads, query의 문장 길이, d_model/num_heads)\n",
    "    scaled_attention, _ = scaled_dot_product_attention(query, key, value, mask)\n",
    "    # (batch_size, query의 문장 길이, num_heads, d_model/num_heads)\n",
    "    scaled_attention = tf.transpose(scaled_attention, perm=[0, 2, 1, 3])\n",
    "\n",
    "    # 4. 헤드 연결(concatenate)하기\n",
    "    # (batch_size, query의 문장 길이, d_model)\n",
    "    concat_attention = tf.reshape(scaled_attention,\n",
    "                                  (batch_size, -1, self.d_model))\n",
    "\n",
    "    # 5. WO에 해당하는 밀집층 지나기\n",
    "    # (batch_size, query의 문장 길이, d_model)\n",
    "    outputs = self.dense(concat_attention)\n",
    "\n",
    "    return outputs"
   ]
  },
  {
   "cell_type": "markdown",
   "metadata": {
    "id": "oo3fFNpGgZ7U"
   },
   "source": [
    "##### 5.1.2.3 Padding Mask"
   ]
  },
  {
   "cell_type": "code",
   "execution_count": 32,
   "metadata": {
    "executionInfo": {
     "elapsed": 15,
     "status": "ok",
     "timestamp": 1668130036706,
     "user": {
      "displayName": "박태윤",
      "userId": "14504281515903706788"
     },
     "user_tz": -540
    },
    "id": "Tl_cobVneCcn"
   },
   "outputs": [],
   "source": [
    "def create_padding_mask(x):\n",
    "  mask = tf.cast(tf.math.equal(x, 0), tf.float32)\n",
    "  # (batch_size, 1, 1, key의 문장 길이)\n",
    "  return mask[:, tf.newaxis, tf.newaxis, :]"
   ]
  },
  {
   "cell_type": "code",
   "execution_count": 33,
   "metadata": {
    "colab": {
     "base_uri": "https://localhost:8080/"
    },
    "executionInfo": {
     "elapsed": 15,
     "status": "ok",
     "timestamp": 1668130036706,
     "user": {
      "displayName": "박태윤",
      "userId": "14504281515903706788"
     },
     "user_tz": -540
    },
    "id": "COG-DBrEgp3V",
    "outputId": "8a324600-e7b3-4806-b4c6-7ca891e4f753"
   },
   "outputs": [
    {
     "name": "stdout",
     "output_type": "stream",
     "text": [
      "tf.Tensor([[[[0. 0. 0. 1. 1.]]]], shape=(1, 1, 1, 5), dtype=float32)\n"
     ]
    }
   ],
   "source": [
    "print(create_padding_mask(tf.constant([[1, 21, 777, 0, 0]])))"
   ]
  },
  {
   "cell_type": "markdown",
   "metadata": {
    "id": "jvWMRRhkO6IL"
   },
   "source": [
    "#### 5.1.3. Encoder Layer"
   ]
  },
  {
   "cell_type": "code",
   "execution_count": 34,
   "metadata": {
    "executionInfo": {
     "elapsed": 13,
     "status": "ok",
     "timestamp": 1668130036707,
     "user": {
      "displayName": "박태윤",
      "userId": "14504281515903706788"
     },
     "user_tz": -540
    },
    "id": "iuP5US3WkJuy"
   },
   "outputs": [],
   "source": [
    "def encoder_layer(dff, d_model, num_heads, dropout, name=\"encoder_layer\"):\n",
    "  inputs = tf.keras.Input(shape=(None, d_model), name=\"inputs\")\n",
    "\n",
    "  # 인코더는 패딩 마스크 사용\n",
    "  padding_mask = tf.keras.Input(shape=(1, 1, None), name=\"padding_mask\")\n",
    "\n",
    "  # 멀티-헤드 어텐션 (첫번째 서브층 / 셀프 어텐션)\n",
    "  attention = MultiHeadAttention(\n",
    "      d_model, num_heads, name=\"attention\")({\n",
    "          'query': inputs, 'key': inputs, 'value': inputs, # Q = K = V\n",
    "          'mask': padding_mask # 패딩 마스크 사용\n",
    "      })\n",
    "\n",
    "  # 드롭아웃 + 잔차 연결과 층 정규화\n",
    "  attention = tf.keras.layers.Dropout(rate=dropout)(attention)\n",
    "  attention = tf.keras.layers.LayerNormalization(\n",
    "      epsilon=1e-6)(inputs + attention)\n",
    "\n",
    "  # 포지션 와이즈 피드 포워드 신경망 (두번째 서브층)\n",
    "  outputs = tf.keras.layers.Dense(units=dff, activation='relu')(attention)\n",
    "  outputs = tf.keras.layers.Dense(units=d_model)(outputs)\n",
    "\n",
    "  # 드롭아웃 + 잔차 연결과 층 정규화\n",
    "  outputs = tf.keras.layers.Dropout(rate=dropout)(outputs)\n",
    "  outputs = tf.keras.layers.LayerNormalization(\n",
    "      epsilon=1e-6)(attention + outputs)\n",
    "\n",
    "  return tf.keras.Model(\n",
    "      inputs=[inputs, padding_mask], outputs=outputs, name=name)"
   ]
  },
  {
   "cell_type": "markdown",
   "metadata": {
    "id": "K6sBboLmp8kn"
   },
   "source": [
    "#### 5.1.4. Encoder Stacking"
   ]
  },
  {
   "cell_type": "code",
   "execution_count": 35,
   "metadata": {
    "executionInfo": {
     "elapsed": 12,
     "status": "ok",
     "timestamp": 1668130036707,
     "user": {
      "displayName": "박태윤",
      "userId": "14504281515903706788"
     },
     "user_tz": -540
    },
    "id": "yca3FsIbp738"
   },
   "outputs": [],
   "source": [
    "def encoder(vocab_size, num_layers, dff,\n",
    "            d_model, num_heads, dropout,\n",
    "            name=\"encoder\"):\n",
    "  inputs = tf.keras.Input(shape=(None,), name=\"inputs\")\n",
    "\n",
    "  # 인코더는 패딩 마스크 사용\n",
    "  padding_mask = tf.keras.Input(shape=(1, 1, None), name=\"padding_mask\")\n",
    "\n",
    "  # 포지셔널 인코딩 + 드롭아웃\n",
    "  embeddings = tf.keras.layers.Embedding(vocab_size, d_model)(inputs)\n",
    "  embeddings *= tf.math.sqrt(tf.cast(d_model, tf.float32))\n",
    "  embeddings = PositionalEncoding(vocab_size, d_model)(embeddings)\n",
    "  outputs = tf.keras.layers.Dropout(rate=dropout)(embeddings)\n",
    "\n",
    "  # 인코더를 num_layers개 쌓기\n",
    "  for i in range(num_layers):\n",
    "    outputs = encoder_layer(dff=dff, d_model=d_model, num_heads=num_heads,\n",
    "        dropout=dropout, name=\"encoder_layer_{}\".format(i),\n",
    "    )([outputs, padding_mask])\n",
    "\n",
    "  return tf.keras.Model(\n",
    "      inputs=[inputs, padding_mask], outputs=outputs, name=name)"
   ]
  },
  {
   "cell_type": "markdown",
   "metadata": {
    "id": "sNhokWWbKopn"
   },
   "source": [
    "### **5.2 Decoder**"
   ]
  },
  {
   "cell_type": "markdown",
   "metadata": {
    "id": "wzXrG2BHLN2O"
   },
   "source": [
    "#### 5.2.1 Look-ahead Mask\n"
   ]
  },
  {
   "cell_type": "code",
   "execution_count": 36,
   "metadata": {
    "executionInfo": {
     "elapsed": 13,
     "status": "ok",
     "timestamp": 1668130036708,
     "user": {
      "displayName": "박태윤",
      "userId": "14504281515903706788"
     },
     "user_tz": -540
    },
    "id": "vGQljPW2p_wJ"
   },
   "outputs": [],
   "source": [
    "# 디코더의 첫번째 서브층(sublayer)에서 미래 토큰을 Mask하는 함수\n",
    "def create_look_ahead_mask(x):\n",
    "  seq_len = tf.shape(x)[1]\n",
    "  look_ahead_mask = 1 - tf.linalg.band_part(tf.ones((seq_len, seq_len)), -1, 0)\n",
    "  padding_mask = create_padding_mask(x) # 패딩 마스크도 포함\n",
    "  return tf.maximum(look_ahead_mask, padding_mask)"
   ]
  },
  {
   "cell_type": "markdown",
   "metadata": {
    "id": "IZHnHeB2LXEG"
   },
   "source": [
    "#### 5.2.2 Decoder Layer"
   ]
  },
  {
   "cell_type": "code",
   "execution_count": 37,
   "metadata": {
    "executionInfo": {
     "elapsed": 13,
     "status": "ok",
     "timestamp": 1668130036708,
     "user": {
      "displayName": "박태윤",
      "userId": "14504281515903706788"
     },
     "user_tz": -540
    },
    "id": "vQ1wU8UZLWQ-"
   },
   "outputs": [],
   "source": [
    "def decoder_layer(dff, d_model, num_heads, dropout, name=\"decoder_layer\"):\n",
    "  inputs = tf.keras.Input(shape=(None, d_model), name=\"inputs\")\n",
    "  enc_outputs = tf.keras.Input(shape=(None, d_model), name=\"encoder_outputs\")\n",
    "\n",
    "  # 디코더는 룩어헤드 마스크(첫번째 서브층)와 패딩 마스크(두번째 서브층) 둘 다 사용.\n",
    "  look_ahead_mask = tf.keras.Input(\n",
    "      shape=(1, None, None), name=\"look_ahead_mask\")\n",
    "  padding_mask = tf.keras.Input(shape=(1, 1, None), name='padding_mask')\n",
    "\n",
    "  # 멀티-헤드 어텐션 (첫번째 서브층 / 마스크드 셀프 어텐션)\n",
    "  attention1 = MultiHeadAttention(\n",
    "      d_model, num_heads, name=\"attention_1\")(inputs={\n",
    "          'query': inputs, 'key': inputs, 'value': inputs, # Q = K = V\n",
    "          'mask': look_ahead_mask # 룩어헤드 마스크\n",
    "      })\n",
    "\n",
    "  attention1 = tf.keras.layers.Dropout(rate=dropout)(attention1)\n",
    "  # 잔차 연결과 층 정규화\n",
    "  attention1 = tf.keras.layers.LayerNormalization(\n",
    "      epsilon=1e-6)(attention1 + inputs)\n",
    "\n",
    "  # 멀티-헤드 어텐션 (두번째 서브층 / 디코더-인코더 어텐션)\n",
    "  attention2 = MultiHeadAttention(\n",
    "      d_model, num_heads, name=\"attention_2\")(inputs={\n",
    "          'query': attention1, 'key': enc_outputs, 'value': enc_outputs, # Q != K = V\n",
    "          'mask': padding_mask # 패딩 마스크\n",
    "      })\n",
    "\n",
    "  # 드롭아웃 + 잔차 연결과 층 정규화\n",
    "  attention2 = tf.keras.layers.Dropout(rate=dropout)(attention2)\n",
    "  attention2 = tf.keras.layers.LayerNormalization(\n",
    "      epsilon=1e-6)(attention2 + attention1)\n",
    "\n",
    "  # 포지션 와이즈 피드 포워드 신경망 (세번째 서브층)\n",
    "  outputs = tf.keras.layers.Dense(units=dff, activation='relu')(attention2)\n",
    "  outputs = tf.keras.layers.Dense(units=d_model)(outputs)\n",
    "\n",
    "  # 드롭아웃 + 잔차 연결과 층 정규화\n",
    "  outputs = tf.keras.layers.Dropout(rate=dropout)(outputs)\n",
    "  outputs = tf.keras.layers.LayerNormalization(\n",
    "      epsilon=1e-6)(outputs + attention2)\n",
    "\n",
    "  return tf.keras.Model(\n",
    "      inputs=[inputs, enc_outputs, look_ahead_mask, padding_mask],\n",
    "      outputs=outputs,\n",
    "      name=name)"
   ]
  },
  {
   "cell_type": "markdown",
   "metadata": {
    "id": "xJZvDEsALege"
   },
   "source": [
    "#### 5.2.3 Decoder Stacking"
   ]
  },
  {
   "cell_type": "code",
   "execution_count": 38,
   "metadata": {
    "executionInfo": {
     "elapsed": 13,
     "status": "ok",
     "timestamp": 1668130036709,
     "user": {
      "displayName": "박태윤",
      "userId": "14504281515903706788"
     },
     "user_tz": -540
    },
    "id": "G8Uz4aoSLdKI"
   },
   "outputs": [],
   "source": [
    "def decoder(vocab_size, num_layers, dff,\n",
    "            d_model, num_heads, dropout,\n",
    "            name='decoder'):\n",
    "  inputs = tf.keras.Input(shape=(None,), name='inputs')\n",
    "  enc_outputs = tf.keras.Input(shape=(None, d_model), name='encoder_outputs')\n",
    "\n",
    "  # 디코더는 룩어헤드 마스크(첫번째 서브층)와 패딩 마스크(두번째 서브층) 둘 다 사용.\n",
    "  look_ahead_mask = tf.keras.Input(\n",
    "      shape=(1, None, None), name='look_ahead_mask')\n",
    "  padding_mask = tf.keras.Input(shape=(1, 1, None), name='padding_mask')\n",
    "\n",
    "  # 포지셔널 인코딩 + 드롭아웃\n",
    "  embeddings = tf.keras.layers.Embedding(vocab_size, d_model)(inputs)\n",
    "  embeddings *= tf.math.sqrt(tf.cast(d_model, tf.float32))\n",
    "  embeddings = PositionalEncoding(vocab_size, d_model)(embeddings)\n",
    "  outputs = tf.keras.layers.Dropout(rate=dropout)(embeddings)\n",
    "\n",
    "  # 디코더를 num_layers개 쌓기\n",
    "  for i in range(num_layers):\n",
    "    outputs = decoder_layer(dff=dff, d_model=d_model, num_heads=num_heads,\n",
    "        dropout=dropout, name='decoder_layer_{}'.format(i),\n",
    "    )(inputs=[outputs, enc_outputs, look_ahead_mask, padding_mask])\n",
    "\n",
    "  return tf.keras.Model(\n",
    "      inputs=[inputs, enc_outputs, look_ahead_mask, padding_mask],\n",
    "      outputs=outputs,\n",
    "      name=name)"
   ]
  },
  {
   "cell_type": "markdown",
   "metadata": {
    "id": "0mZeAHTGLnNm"
   },
   "source": [
    "### **5.3 Transformer**"
   ]
  },
  {
   "cell_type": "code",
   "execution_count": 39,
   "metadata": {
    "executionInfo": {
     "elapsed": 11,
     "status": "ok",
     "timestamp": 1668130036709,
     "user": {
      "displayName": "박태윤",
      "userId": "14504281515903706788"
     },
     "user_tz": -540
    },
    "id": "pFUzY71MLkls"
   },
   "outputs": [],
   "source": [
    "def transformer(vocab_size, num_layers, dff,\n",
    "                d_model, num_heads, dropout,\n",
    "                name=\"transformer\"):\n",
    "\n",
    "  # 인코더의 입력\n",
    "  inputs = tf.keras.Input(shape=(None,), name=\"inputs\")\n",
    "\n",
    "  # 디코더의 입력\n",
    "  dec_inputs = tf.keras.Input(shape=(None,), name=\"dec_inputs\")\n",
    "\n",
    "  # 인코더의 패딩 마스크\n",
    "  enc_padding_mask = tf.keras.layers.Lambda(\n",
    "      create_padding_mask, output_shape=(1, 1, None),\n",
    "      name='enc_padding_mask')(inputs)\n",
    "\n",
    "  # 디코더의 룩어헤드 마스크(첫번째 서브층)\n",
    "  look_ahead_mask = tf.keras.layers.Lambda(\n",
    "      create_look_ahead_mask, output_shape=(1, None, None),\n",
    "      name='look_ahead_mask')(dec_inputs)\n",
    "\n",
    "  # 디코더의 패딩 마스크(두번째 서브층)\n",
    "  dec_padding_mask = tf.keras.layers.Lambda(\n",
    "      create_padding_mask, output_shape=(1, 1, None),\n",
    "      name='dec_padding_mask')(inputs)\n",
    "\n",
    "  # 인코더의 출력은 enc_outputs. 디코더로 전달된다.\n",
    "  enc_outputs = encoder(vocab_size=vocab_size, num_layers=num_layers, dff=dff,\n",
    "      d_model=d_model, num_heads=num_heads, dropout=dropout,\n",
    "  )(inputs=[inputs, enc_padding_mask]) # 인코더의 입력은 입력 문장과 패딩 마스크\n",
    "\n",
    "  # 디코더의 출력은 dec_outputs. 출력층으로 전달된다.\n",
    "  dec_outputs = decoder(vocab_size=vocab_size, num_layers=num_layers, dff=dff,\n",
    "      d_model=d_model, num_heads=num_heads, dropout=dropout,\n",
    "  )(inputs=[dec_inputs, enc_outputs, look_ahead_mask, dec_padding_mask])\n",
    "\n",
    "  # 다음 단어 예측을 위한 출력층\n",
    "  outputs = tf.keras.layers.Dense(units=vocab_size, name=\"outputs\")(dec_outputs)\n",
    "\n",
    "  return tf.keras.Model(inputs=[inputs, dec_inputs], outputs=outputs, name=name)"
   ]
  },
  {
   "cell_type": "markdown",
   "metadata": {
    "id": "mce0ZJ05bFSe"
   },
   "source": [
    "- 하이퍼 파라미터 결정\n",
    "  - 단어 집합의 크기: 9,000\n",
    "  - $d_{model}=128$\n",
    "  - num_layers=4\n",
    "  - num_heads=4\n",
    "  - $d_{ff}=128$\n",
    "  - $d_v=32$ (128/4)\n"
   ]
  },
  {
   "cell_type": "code",
   "execution_count": 45,
   "metadata": {},
   "outputs": [
    {
     "name": "stdout",
     "output_type": "stream",
     "text": [
      "Collecting pydot\n",
      "  Downloading pydot-1.4.2-py2.py3-none-any.whl (21 kB)\n",
      "Requirement already satisfied: pyparsing>=2.1.4 in c:\\users\\joony\\anaconda3\\lib\\site-packages (from pydot) (3.0.4)\n",
      "Installing collected packages: pydot\n",
      "Successfully installed pydot-1.4.2\n"
     ]
    }
   ],
   "source": [
    "!pip install pydot"
   ]
  },
  {
   "cell_type": "code",
   "execution_count": 46,
   "metadata": {},
   "outputs": [
    {
     "name": "stdout",
     "output_type": "stream",
     "text": [
      "Requirement already satisfied: graphviz in c:\\users\\joony\\anaconda3\\lib\\site-packages (0.20)\n"
     ]
    }
   ],
   "source": [
    "!pip install graphviz"
   ]
  },
  {
   "cell_type": "code",
   "execution_count": 47,
   "metadata": {
    "colab": {
     "base_uri": "https://localhost:8080/",
     "height": 372
    },
    "executionInfo": {
     "elapsed": 5848,
     "status": "ok",
     "timestamp": 1668130042547,
     "user": {
      "displayName": "박태윤",
      "userId": "14504281515903706788"
     },
     "user_tz": -540
    },
    "id": "yPohP0IyLtlt",
    "outputId": "cd1fc0dd-be04-4cfc-999b-12f7abe3e4ca"
   },
   "outputs": [
    {
     "name": "stdout",
     "output_type": "stream",
     "text": [
      "(1, 9000, 128)\n",
      "(1, 9000, 128)\n",
      "You must install pydot (`pip install pydot`) and install graphviz (see instructions at https://graphviz.gitlab.io/download/) for plot_model/model_to_dot to work.\n"
     ]
    }
   ],
   "source": [
    "small_transformer = transformer(\n",
    "    vocab_size = 9000,\n",
    "    num_layers = 4,\n",
    "    dff = 128,\n",
    "    d_model = 128,\n",
    "    num_heads = 4,\n",
    "    dropout = 0.3,\n",
    "    name=\"small_transformer\")\n",
    "\n",
    "tf.keras.utils.plot_model(\n",
    "    small_transformer, to_file='small_transformer.png', show_shapes=True)"
   ]
  },
  {
   "cell_type": "code",
   "execution_count": 48,
   "metadata": {
    "executionInfo": {
     "elapsed": 31,
     "status": "ok",
     "timestamp": 1668130042549,
     "user": {
      "displayName": "박태윤",
      "userId": "14504281515903706788"
     },
     "user_tz": -540
    },
    "id": "enVk9NQTLv5u"
   },
   "outputs": [],
   "source": [
    "def loss_function(y_true, y_pred):\n",
    "  y_true = tf.reshape(y_true, shape=(-1, MAX_LENGTH - 1))\n",
    "\n",
    "  loss = tf.keras.losses.SparseCategoricalCrossentropy(\n",
    "      from_logits=True, reduction='none')(y_true, y_pred)\n",
    "\n",
    "  mask = tf.cast(tf.not_equal(y_true, 0), tf.float32)\n",
    "  loss = tf.multiply(loss, mask)\n",
    "\n",
    "  return tf.reduce_mean(loss)"
   ]
  },
  {
   "cell_type": "code",
   "execution_count": 49,
   "metadata": {
    "executionInfo": {
     "elapsed": 31,
     "status": "ok",
     "timestamp": 1668130042550,
     "user": {
      "displayName": "박태윤",
      "userId": "14504281515903706788"
     },
     "user_tz": -540
    },
    "id": "7zgBQz7wLz3m"
   },
   "outputs": [],
   "source": [
    "class CustomSchedule(tf.keras.optimizers.schedules.LearningRateSchedule):\n",
    "\n",
    "  def __init__(self, d_model, warmup_steps=4000):\n",
    "    super(CustomSchedule, self).__init__()\n",
    "    self.d_model = d_model\n",
    "    self.d_model = tf.cast(self.d_model, tf.float32)\n",
    "    self.warmup_steps = warmup_steps\n",
    "\n",
    "  def __call__(self, step):\n",
    "    arg1 = tf.math.rsqrt(step)\n",
    "    arg2 = step * (self.warmup_steps**-1.5)\n",
    "\n",
    "    return tf.math.rsqrt(self.d_model) * tf.math.minimum(arg1, arg2)"
   ]
  },
  {
   "cell_type": "markdown",
   "metadata": {
    "id": "t5YjYie1OT-M"
   },
   "source": [
    "## **6. 챗봇 구성하기**"
   ]
  },
  {
   "cell_type": "markdown",
   "metadata": {
    "id": "5luzWyD-OiQD"
   },
   "source": [
    "- 하이퍼파라미터를 조정하여 실제 논문의 트랜스포머보다는 작은 모델로 구현\n",
    "  - $d_{model}=256$\n",
    "  - num_layers=2\n",
    "  - num_heads=8\n",
    "  - $d_{ff}=512$"
   ]
  },
  {
   "cell_type": "code",
   "execution_count": 88,
   "metadata": {
    "colab": {
     "base_uri": "https://localhost:8080/"
    },
    "executionInfo": {
     "elapsed": 4312,
     "status": "ok",
     "timestamp": 1668135738311,
     "user": {
      "displayName": "박태윤",
      "userId": "14504281515903706788"
     },
     "user_tz": -540
    },
    "id": "cGLAE6QdMqG8",
    "outputId": "e862089d-0b6b-45e1-b621-817f73f188c2"
   },
   "outputs": [
    {
     "name": "stdout",
     "output_type": "stream",
     "text": [
      "(1, 8180, 512)\n",
      "(1, 8180, 512)\n"
     ]
    }
   ],
   "source": [
    "tf.keras.backend.clear_session()\n",
    "\n",
    "# Hyper-parameters\n",
    "NUM_LAYERS = 6\n",
    "D_MODEL = 512\n",
    "NUM_HEADS = 16\n",
    "DFF = 1024\n",
    "DROPOUT = 0.1\n",
    "\n",
    "model = transformer(\n",
    "    vocab_size=VOCAB_SIZE,\n",
    "    num_layers=NUM_LAYERS,\n",
    "    dff=DFF,\n",
    "    d_model=D_MODEL,\n",
    "    num_heads=NUM_HEADS,\n",
    "    dropout=DROPOUT)"
   ]
  },
  {
   "cell_type": "code",
   "execution_count": 89,
   "metadata": {
    "executionInfo": {
     "elapsed": 15,
     "status": "ok",
     "timestamp": 1668135738312,
     "user": {
      "displayName": "박태윤",
      "userId": "14504281515903706788"
     },
     "user_tz": -540
    },
    "id": "vpU5mtIdMrsm"
   },
   "outputs": [],
   "source": [
    "MAX_LENGTH = 40\n",
    "\n",
    "learning_rate = CustomSchedule(D_MODEL)\n",
    "\n",
    "optimizer = tf.keras.optimizers.Adam(\n",
    "    learning_rate, beta_1=0.9, beta_2=0.98, epsilon=1e-9)\n",
    "\n",
    "def accuracy(y_true, y_pred):\n",
    "  # ensure labels have shape (batch_size, MAX_LENGTH - 1)\n",
    "  y_true = tf.reshape(y_true, shape=(-1, MAX_LENGTH - 1))\n",
    "  return tf.keras.metrics.sparse_categorical_accuracy(y_true, y_pred)\n",
    "\n",
    "model.compile(optimizer=optimizer, loss=loss_function, metrics=[accuracy])"
   ]
  },
  {
   "cell_type": "code",
   "execution_count": 90,
   "metadata": {},
   "outputs": [
    {
     "name": "stdout",
     "output_type": "stream",
     "text": [
      "[name: \"/device:CPU:0\"\n",
      "device_type: \"CPU\"\n",
      "memory_limit: 268435456\n",
      "locality {\n",
      "}\n",
      "incarnation: 18429338346170462286\n",
      "xla_global_id: -1\n",
      ", name: \"/device:GPU:0\"\n",
      "device_type: \"GPU\"\n",
      "memory_limit: 4189650944\n",
      "locality {\n",
      "  bus_id: 1\n",
      "  links {\n",
      "  }\n",
      "}\n",
      "incarnation: 15784450029777963545\n",
      "physical_device_desc: \"device: 0, name: NVIDIA GeForce GTX 1660 SUPER, pci bus id: 0000:09:00.0, compute capability: 7.5\"\n",
      "xla_global_id: 416903419\n",
      "]\n"
     ]
    }
   ],
   "source": [
    "from tensorflow.python.client import device_lib\n",
    "print(device_lib.list_local_devices())"
   ]
  },
  {
   "cell_type": "code",
   "execution_count": 91,
   "metadata": {},
   "outputs": [
    {
     "name": "stdout",
     "output_type": "stream",
     "text": [
      "True\n",
      "[PhysicalDevice(name='/physical_device:GPU:0', device_type='GPU')]\n"
     ]
    }
   ],
   "source": [
    "print(tf.test.is_built_with_cuda())\n",
    "print(tf.config.list_physical_devices('GPU'))"
   ]
  },
  {
   "cell_type": "code",
   "execution_count": 92,
   "metadata": {},
   "outputs": [],
   "source": [
    "import os\n",
    "os.environ['CUDA_VISIBLE_DEVICES'] = '0' ## 초기화할 GPU number\n",
    "\n",
    "with tf.Graph().as_default():\n",
    "   # GPU 메모리를 전부 할당하지 않고, 아주 적은 비율만 할당되어 시작됨. 프로세스의 메모리 수요에 따라 자동적으로 증가\n",
    "   # 단, GPU 메모리를 처음부터 전체 비율을 사용하지 않음\n",
    "   gpu_options = tf.compat.v1.GPUOptions(allow_growth=True)"
   ]
  },
  {
   "cell_type": "code",
   "execution_count": null,
   "metadata": {
    "colab": {
     "base_uri": "https://localhost:8080/"
    },
    "executionInfo": {
     "elapsed": 3257403,
     "status": "ok",
     "timestamp": 1668139441025,
     "user": {
      "displayName": "박태윤",
      "userId": "14504281515903706788"
     },
     "user_tz": -540
    },
    "id": "ANNRrqyxMudl",
    "outputId": "492d17f7-753e-4202-825c-7a4417e42b6e"
   },
   "outputs": [
    {
     "name": "stdout",
     "output_type": "stream",
     "text": [
      "Epoch 1/100\n",
      "185/185 [==============================] - 76s 333ms/step - loss: 1.3367 - accuracy: 0.0251\n",
      "Epoch 2/100\n",
      "185/185 [==============================] - 62s 336ms/step - loss: 1.0740 - accuracy: 0.0495\n",
      "Epoch 3/100\n",
      "185/185 [==============================] - 62s 335ms/step - loss: 0.9850 - accuracy: 0.0507\n",
      "Epoch 4/100\n",
      "185/185 [==============================] - 62s 336ms/step - loss: 0.9404 - accuracy: 0.0527\n",
      "Epoch 5/100\n",
      "185/185 [==============================] - 62s 336ms/step - loss: 0.9057 - accuracy: 0.0548\n",
      "Epoch 6/100\n",
      "185/185 [==============================] - 62s 337ms/step - loss: 0.8710 - accuracy: 0.0565\n",
      "Epoch 7/100\n",
      "185/185 [==============================] - 62s 337ms/step - loss: 0.8381 - accuracy: 0.0581\n",
      "Epoch 8/100\n",
      "185/185 [==============================] - 62s 337ms/step - loss: 0.8064 - accuracy: 0.0596\n",
      "Epoch 9/100\n",
      "185/185 [==============================] - 62s 336ms/step - loss: 0.7733 - accuracy: 0.0614\n",
      "Epoch 10/100\n",
      "185/185 [==============================] - 62s 336ms/step - loss: 0.7380 - accuracy: 0.0634\n",
      "Epoch 11/100\n",
      "185/185 [==============================] - 62s 337ms/step - loss: 0.7027 - accuracy: 0.0657\n",
      "Epoch 12/100\n",
      "185/185 [==============================] - 62s 336ms/step - loss: 0.6675 - accuracy: 0.0684\n",
      "Epoch 13/100\n",
      "185/185 [==============================] - 62s 336ms/step - loss: 0.6307 - accuracy: 0.0714\n",
      "Epoch 14/100\n",
      "185/185 [==============================] - 62s 336ms/step - loss: 0.5951 - accuracy: 0.0747\n",
      "Epoch 15/100\n",
      "185/185 [==============================] - 62s 337ms/step - loss: 0.5608 - accuracy: 0.0782\n",
      "Epoch 16/100\n",
      "185/185 [==============================] - 62s 337ms/step - loss: 0.5293 - accuracy: 0.0816\n",
      "Epoch 17/100\n",
      "185/185 [==============================] - 62s 337ms/step - loss: 0.4953 - accuracy: 0.0859\n",
      "Epoch 18/100\n",
      "185/185 [==============================] - 62s 336ms/step - loss: 0.4688 - accuracy: 0.0889\n",
      "Epoch 19/100\n",
      "185/185 [==============================] - 62s 336ms/step - loss: 0.4415 - accuracy: 0.0927\n",
      "Epoch 20/100\n",
      "185/185 [==============================] - 62s 336ms/step - loss: 0.4198 - accuracy: 0.0961\n",
      "Epoch 21/100\n",
      "185/185 [==============================] - 62s 337ms/step - loss: 0.3986 - accuracy: 0.0989\n",
      "Epoch 22/100\n",
      "185/185 [==============================] - 62s 337ms/step - loss: 0.3823 - accuracy: 0.1014\n",
      "Epoch 23/100\n",
      "185/185 [==============================] - 62s 337ms/step - loss: 0.3602 - accuracy: 0.1047\n",
      "Epoch 24/100\n",
      "185/185 [==============================] - 62s 337ms/step - loss: 0.3391 - accuracy: 0.1082\n",
      "Epoch 25/100\n",
      "185/185 [==============================] - 62s 337ms/step - loss: 0.3213 - accuracy: 0.1114\n",
      "Epoch 26/100\n",
      "185/185 [==============================] - 62s 337ms/step - loss: 0.3025 - accuracy: 0.1147\n",
      "Epoch 27/100\n",
      "185/185 [==============================] - 62s 337ms/step - loss: 0.2882 - accuracy: 0.1174\n",
      "Epoch 28/100\n",
      "185/185 [==============================] - 62s 337ms/step - loss: 0.2750 - accuracy: 0.1199\n",
      "Epoch 29/100\n",
      "185/185 [==============================] - 62s 337ms/step - loss: 0.2630 - accuracy: 0.1222\n",
      "Epoch 30/100\n",
      "185/185 [==============================] - 65s 351ms/step - loss: 0.2539 - accuracy: 0.1240\n",
      "Epoch 31/100\n",
      "185/185 [==============================] - 65s 351ms/step - loss: 0.2449 - accuracy: 0.1256\n",
      "Epoch 32/100\n",
      "185/185 [==============================] - 79s 425ms/step - loss: 0.2373 - accuracy: 0.1271\n",
      "Epoch 33/100\n",
      "185/185 [==============================] - 82s 443ms/step - loss: 0.2311 - accuracy: 0.1280\n",
      "Epoch 34/100\n",
      "185/185 [==============================] - 83s 446ms/step - loss: 0.2219 - accuracy: 0.1296\n",
      "Epoch 35/100\n",
      "185/185 [==============================] - 90s 484ms/step - loss: 0.2179 - accuracy: 0.1304\n",
      "Epoch 36/100\n",
      "185/185 [==============================] - 86s 463ms/step - loss: 0.2126 - accuracy: 0.1312\n",
      "Epoch 37/100\n",
      "185/185 [==============================] - 85s 460ms/step - loss: 0.2086 - accuracy: 0.1320\n",
      "Epoch 38/100\n",
      "185/185 [==============================] - 84s 454ms/step - loss: 0.2009 - accuracy: 0.1332\n",
      "Epoch 39/100\n",
      "185/185 [==============================] - 84s 457ms/step - loss: 0.1968 - accuracy: 0.1340\n",
      "Epoch 40/100\n",
      "185/185 [==============================] - 84s 452ms/step - loss: 0.1944 - accuracy: 0.1345\n",
      "Epoch 41/100\n",
      "185/185 [==============================] - 84s 455ms/step - loss: 0.1900 - accuracy: 0.1351\n",
      "Epoch 42/100\n",
      "185/185 [==============================] - 86s 463ms/step - loss: 0.1859 - accuracy: 0.1359\n",
      "Epoch 43/100\n",
      "185/185 [==============================] - 83s 451ms/step - loss: 0.1837 - accuracy: 0.1363\n",
      "Epoch 44/100\n",
      "185/185 [==============================] - 83s 450ms/step - loss: 0.1810 - accuracy: 0.1366\n",
      "Epoch 45/100\n",
      "185/185 [==============================] - 82s 444ms/step - loss: 0.1761 - accuracy: 0.1373\n",
      "Epoch 46/100\n",
      "185/185 [==============================] - 84s 452ms/step - loss: 0.1743 - accuracy: 0.1376\n",
      "Epoch 47/100\n",
      "185/185 [==============================] - 84s 453ms/step - loss: 0.1720 - accuracy: 0.1379\n",
      "Epoch 48/100\n",
      "185/185 [==============================] - 85s 462ms/step - loss: 0.1702 - accuracy: 0.1383\n",
      "Epoch 49/100\n",
      "185/185 [==============================] - 83s 451ms/step - loss: 0.1673 - accuracy: 0.1387\n",
      "Epoch 50/100\n",
      "185/185 [==============================] - 84s 456ms/step - loss: 0.1648 - accuracy: 0.1393\n",
      "Epoch 51/100\n",
      "185/185 [==============================] - 85s 458ms/step - loss: 0.1628 - accuracy: 0.1396\n",
      "Epoch 52/100\n",
      "185/185 [==============================] - 85s 459ms/step - loss: 0.1604 - accuracy: 0.1399\n",
      "Epoch 53/100\n",
      "185/185 [==============================] - 86s 465ms/step - loss: 0.1593 - accuracy: 0.1399\n",
      "Epoch 54/100\n",
      "185/185 [==============================] - 91s 492ms/step - loss: 0.1571 - accuracy: 0.1404\n",
      "Epoch 55/100\n",
      "185/185 [==============================] - 84s 455ms/step - loss: 0.1543 - accuracy: 0.1409\n",
      "Epoch 56/100\n",
      "185/185 [==============================] - 89s 480ms/step - loss: 0.1534 - accuracy: 0.1411\n",
      "Epoch 57/100\n",
      "185/185 [==============================] - 87s 469ms/step - loss: 0.1520 - accuracy: 0.1413\n",
      "Epoch 58/100\n",
      "185/185 [==============================] - 95s 514ms/step - loss: 0.1494 - accuracy: 0.1418\n",
      "Epoch 59/100\n",
      "185/185 [==============================] - 88s 474ms/step - loss: 0.1478 - accuracy: 0.1420\n",
      "Epoch 60/100\n",
      "185/185 [==============================] - 75s 406ms/step - loss: 0.1469 - accuracy: 0.1420\n",
      "Epoch 61/100\n",
      "185/185 [==============================] - 63s 339ms/step - loss: 0.1450 - accuracy: 0.1425\n",
      "Epoch 62/100\n",
      "185/185 [==============================] - 63s 338ms/step - loss: 0.1436 - accuracy: 0.1427\n",
      "Epoch 63/100\n",
      "185/185 [==============================] - 62s 338ms/step - loss: 0.1419 - accuracy: 0.1430\n",
      "Epoch 64/100\n",
      "185/185 [==============================] - 63s 338ms/step - loss: 0.1414 - accuracy: 0.1429\n",
      "Epoch 65/100\n",
      "185/185 [==============================] - 62s 338ms/step - loss: 0.1397 - accuracy: 0.1432\n",
      "Epoch 66/100\n",
      "185/185 [==============================] - 63s 338ms/step - loss: 0.1379 - accuracy: 0.1436\n",
      "Epoch 67/100\n",
      "185/185 [==============================] - 63s 338ms/step - loss: 0.1368 - accuracy: 0.1437\n",
      "Epoch 68/100\n",
      "185/185 [==============================] - 63s 338ms/step - loss: 0.1360 - accuracy: 0.1437\n",
      "Epoch 69/100\n",
      "185/185 [==============================] - 62s 338ms/step - loss: 0.1347 - accuracy: 0.1441\n",
      "Epoch 70/100\n",
      "185/185 [==============================] - 63s 338ms/step - loss: 0.1328 - accuracy: 0.1445\n",
      "Epoch 71/100\n",
      "185/185 [==============================] - 62s 338ms/step - loss: 0.1327 - accuracy: 0.1442\n",
      "Epoch 72/100\n",
      "185/185 [==============================] - 63s 338ms/step - loss: 0.1307 - accuracy: 0.1447\n",
      "Epoch 73/100\n",
      "185/185 [==============================] - 62s 337ms/step - loss: 0.1302 - accuracy: 0.1447\n",
      "Epoch 74/100\n",
      " 71/185 [==========>...................] - ETA: 38s - loss: 0.1211 - accuracy: 0.1460"
     ]
    }
   ],
   "source": [
    "EPOCHS = 100\n",
    "\n",
    "\n",
    "with tf.device(\"/device:GPU:0\"):\n",
    "   model.fit(dataset, epochs=EPOCHS)"
   ]
  },
  {
   "cell_type": "code",
   "execution_count": null,
   "metadata": {
    "executionInfo": {
     "elapsed": 10,
     "status": "aborted",
     "timestamp": 1668136176104,
     "user": {
      "displayName": "박태윤",
      "userId": "14504281515903706788"
     },
     "user_tz": -540
    },
    "id": "eQ-HE_1XRQPT"
   },
   "outputs": [],
   "source": [
    "tf.saved_model.save(model, \"./transformer_chatbot.h5\")"
   ]
  },
  {
   "cell_type": "markdown",
   "metadata": {
    "id": "derXe3eJZaaO"
   },
   "source": [
    "## **7. 챗봇 평가하기**"
   ]
  },
  {
   "cell_type": "code",
   "execution_count": null,
   "metadata": {
    "executionInfo": {
     "elapsed": 11,
     "status": "aborted",
     "timestamp": 1668136176105,
     "user": {
      "displayName": "박태윤",
      "userId": "14504281515903706788"
     },
     "user_tz": -540
    },
    "id": "m_yF7K_GMwvd"
   },
   "outputs": [],
   "source": [
    "def evaluate(sentence):\n",
    "  sentence = preprocess_sentence(sentence)\n",
    "\n",
    "  sentence = tf.expand_dims(\n",
    "      START_TOKEN + tokenizer.encode(sentence) + END_TOKEN, axis=0)\n",
    "\n",
    "  output = tf.expand_dims(START_TOKEN, 0)\n",
    "\n",
    "  # 디코더의 예측 시작\n",
    "  for i in range(MAX_LENGTH):\n",
    "    predictions = model(inputs=[sentence, output], training=False)\n",
    "\n",
    "    # 현재(마지막) 시점의 예측 단어를 받아온다.\n",
    "    predictions = predictions[:, -1:, :]\n",
    "    predicted_id = tf.cast(tf.argmax(predictions, axis=-1), tf.int32)\n",
    "\n",
    "    # 만약 마지막 시점의 예측 단어가 종료 토큰이라면 예측을 중단\n",
    "    if tf.equal(predicted_id, END_TOKEN[0]):\n",
    "      break\n",
    "\n",
    "    # 마지막 시점의 예측 단어를 출력에 연결한다.\n",
    "    # 이는 for문을 통해서 디코더의 입력으로 사용될 예정이다.\n",
    "    output = tf.concat([output, predicted_id], axis=-1)\n",
    "\n",
    "  return tf.squeeze(output, axis=0)\n",
    "\n",
    "\n",
    "def predict(sentence):\n",
    "  prediction = evaluate(sentence)\n",
    "\n",
    "  predicted_sentence = tokenizer.decode(\n",
    "      [i for i in prediction if i < tokenizer.vocab_size])\n",
    "\n",
    "  print('Input: {}'.format(sentence))\n",
    "  print('Output: {}'.format(predicted_sentence))\n",
    "\n",
    "  return predicted_sentence"
   ]
  },
  {
   "cell_type": "code",
   "execution_count": null,
   "metadata": {
    "executionInfo": {
     "elapsed": 10,
     "status": "aborted",
     "timestamp": 1668136176105,
     "user": {
      "displayName": "박태윤",
      "userId": "14504281515903706788"
     },
     "user_tz": -540
    },
    "id": "3K455VxrM1lE"
   },
   "outputs": [],
   "source": [
    "def preprocess_sentence(sentence):\n",
    "  sentence = re.sub(r\"([?.!,])\", r\" \\1 \", sentence)\n",
    "  sentence = sentence.strip()\n",
    "  return sentence"
   ]
  },
  {
   "cell_type": "code",
   "execution_count": null,
   "metadata": {
    "executionInfo": {
     "elapsed": 11,
     "status": "aborted",
     "timestamp": 1668136176106,
     "user": {
      "displayName": "박태윤",
      "userId": "14504281515903706788"
     },
     "user_tz": -540
    },
    "id": "epE-f-9fM1dF"
   },
   "outputs": [],
   "source": [
    "output = predict('영화 볼래?')"
   ]
  },
  {
   "cell_type": "code",
   "execution_count": null,
   "metadata": {
    "executionInfo": {
     "elapsed": 12,
     "status": "aborted",
     "timestamp": 1668136176107,
     "user": {
      "displayName": "박태윤",
      "userId": "14504281515903706788"
     },
     "user_tz": -540
    },
    "id": "FQ4eTvQqM1VF"
   },
   "outputs": [],
   "source": [
    "output = predict(\"고민이 있어\")"
   ]
  },
  {
   "cell_type": "code",
   "execution_count": null,
   "metadata": {
    "executionInfo": {
     "elapsed": 21,
     "status": "aborted",
     "timestamp": 1668130163713,
     "user": {
      "displayName": "박태윤",
      "userId": "14504281515903706788"
     },
     "user_tz": -540
    },
    "id": "yj1Md8bfM1KU"
   },
   "outputs": [],
   "source": [
    "output = predict(\"너무 화가나\")"
   ]
  },
  {
   "cell_type": "code",
   "execution_count": null,
   "metadata": {
    "executionInfo": {
     "elapsed": 22,
     "status": "aborted",
     "timestamp": 1668130163714,
     "user": {
      "displayName": "박태윤",
      "userId": "14504281515903706788"
     },
     "user_tz": -540
    },
    "id": "d_Y1MFRSM6Ms"
   },
   "outputs": [],
   "source": [
    "output = predict(\"게임하고싶은데 할래?\")\n",
    "\n"
   ]
  },
  {
   "cell_type": "code",
   "execution_count": null,
   "metadata": {
    "executionInfo": {
     "elapsed": 23,
     "status": "aborted",
     "timestamp": 1668130163715,
     "user": {
      "displayName": "박태윤",
      "userId": "14504281515903706788"
     },
     "user_tz": -540
    },
    "id": "wgM4VGdsM8kk"
   },
   "outputs": [],
   "source": [
    "output = predict(\"나 너 좋아하는 것 같아\")"
   ]
  },
  {
   "cell_type": "code",
   "execution_count": null,
   "metadata": {
    "executionInfo": {
     "elapsed": 23,
     "status": "aborted",
     "timestamp": 1668130163716,
     "user": {
      "displayName": "박태윤",
      "userId": "14504281515903706788"
     },
     "user_tz": -540
    },
    "id": "rH7QuVwsM8ac"
   },
   "outputs": [],
   "source": [
    "output = predict(\"딥 러닝 자연어 처리를 잘 하고 싶어\")"
   ]
  },
  {
   "cell_type": "code",
   "execution_count": null,
   "metadata": {
    "executionInfo": {
     "elapsed": 24,
     "status": "aborted",
     "timestamp": 1668130163717,
     "user": {
      "displayName": "박태윤",
      "userId": "14504281515903706788"
     },
     "user_tz": -540
    },
    "id": "34XEZZ2sSY9K"
   },
   "outputs": [],
   "source": [
    " loaded_model = tf.saved_model.load(\"transformer_chatbot.h5\")"
   ]
  },
  {
   "cell_type": "code",
   "execution_count": null,
   "metadata": {
    "executionInfo": {
     "elapsed": 27,
     "status": "aborted",
     "timestamp": 1668130163720,
     "user": {
      "displayName": "박태윤",
      "userId": "14504281515903706788"
     },
     "user_tz": -540
    },
    "id": "tRR2nbXpS_Iy"
   },
   "outputs": [],
   "source": [
    "def evaluate2(sentence):\n",
    "  sentence = preprocess_sentence(sentence)\n",
    "\n",
    "  sentence = tf.expand_dims(\n",
    "      START_TOKEN + tokenizer.encode(sentence) + END_TOKEN, axis=0)\n",
    "\n",
    "  output = tf.expand_dims(START_TOKEN, 0)\n",
    "\n",
    "  # 디코더의 예측 시작\n",
    "  for i in range(MAX_LENGTH):\n",
    "    predictions = loaded_model(inputs=[sentence, output], training=False)\n",
    "\n",
    "    # 현재(마지막) 시점의 예측 단어를 받아온다.\n",
    "    predictions = predictions[:, -1:, :]\n",
    "    predicted_id = tf.cast(tf.argmax(predictions, axis=-1), tf.int32)\n",
    "\n",
    "    # 만약 마지막 시점의 예측 단어가 종료 토큰이라면 예측을 중단\n",
    "    if tf.equal(predicted_id, END_TOKEN[0]):\n",
    "      break\n",
    "\n",
    "    # 마지막 시점의 예측 단어를 출력에 연결한다.\n",
    "    # 이는 for문을 통해서 디코더의 입력으로 사용될 예정이다.\n",
    "    output = tf.concat([output, predicted_id], axis=-1)\n",
    "\n",
    "  return tf.squeeze(output, axis=0)\n",
    "\n",
    "def predict2(sentence):\n",
    "  prediction = evaluate(sentence)\n",
    "\n",
    "  predicted_sentence = tokenizer.decode(\n",
    "      [i for i in prediction if i < tokenizer.vocab_size])\n",
    "\n",
    "  print('Input: {}'.format(sentence))\n",
    "  print('Output: {}'.format(predicted_sentence))\n",
    "\n",
    "  return predicted_sentence  "
   ]
  },
  {
   "cell_type": "code",
   "execution_count": null,
   "metadata": {
    "executionInfo": {
     "elapsed": 28,
     "status": "aborted",
     "timestamp": 1668130163721,
     "user": {
      "displayName": "박태윤",
      "userId": "14504281515903706788"
     },
     "user_tz": -540
    },
    "id": "HEvEldJYTlaT"
   },
   "outputs": [],
   "source": [
    "output = predict2(\"딥 러닝 자연어 처리를 잘 하고 싶어\")"
   ]
  },
  {
   "cell_type": "code",
   "execution_count": null,
   "metadata": {},
   "outputs": [],
   "source": []
  }
 ],
 "metadata": {
  "accelerator": "GPU",
  "colab": {
   "collapsed_sections": [],
   "provenance": []
  },
  "gpuClass": "standard",
  "kernelspec": {
   "display_name": "Python 3 (ipykernel)",
   "language": "python",
   "name": "python3"
  },
  "language_info": {
   "codemirror_mode": {
    "name": "ipython",
    "version": 3
   },
   "file_extension": ".py",
   "mimetype": "text/x-python",
   "name": "python",
   "nbconvert_exporter": "python",
   "pygments_lexer": "ipython3",
   "version": "3.9.7"
  }
 },
 "nbformat": 4,
 "nbformat_minor": 1
}
